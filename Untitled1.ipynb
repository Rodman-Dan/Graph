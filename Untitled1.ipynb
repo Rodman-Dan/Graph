{
 "cells": [
  {
   "cell_type": "code",
   "execution_count": 13,
   "metadata": {},
   "outputs": [],
   "source": [
    "import collections\n",
    "import networkx as nx"
   ]
  },
  {
   "cell_type": "code",
   "execution_count": 8,
   "metadata": {},
   "outputs": [],
   "source": [
    "trial = open('trial.txt', 'r')\n",
    "lines = [line for line in trial]\n",
    "trial.close()"
   ]
  },
  {
   "cell_type": "code",
   "execution_count": 9,
   "metadata": {},
   "outputs": [],
   "source": [
    "correctLines = []\n",
    "for line in lines:\n",
    "    if (((not line[0] == '\\t') or ('...' in line)) and (line)):\n",
    "        continue\n",
    "    else:\n",
    "        correctLines.append(line[4:line.find('(')])"
   ]
  },
  {
   "cell_type": "markdown",
   "metadata": {},
   "source": [
    "В итоге, в correctLines находятся названия ошибок, которые мы будем трогать."
   ]
  },
  {
   "cell_type": "code",
   "execution_count": 10,
   "metadata": {
    "scrolled": true
   },
   "outputs": [
    {
     "data": {
      "text/plain": [
       "Counter({'o.e.j.s.HttpInput$ErrorState.noContent': 1,\n",
       "         'o.e.j.s.HttpInput.read': 1,\n",
       "         'o.g.j.m.i.EntityInputStream.read': 1,\n",
       "         'o.g.j.m.i.ReaderInterceptorExecutor$UnCloseableInputStream.read': 1,\n",
       "         'o.j.m.MIMEParser.fillBuf': 1,\n",
       "         'o.j.m.MIMEParser.readBody': 1,\n",
       "         'o.j.m.MIMEParser.access$600': 1,\n",
       "         'o.j.m.MIMEParser$MIMEEventIterator.next': 2,\n",
       "         'o.j.m.MIMEMessage.makeProgress': 1,\n",
       "         'o.j.m.MIMEMessage.parseAll': 1,\n",
       "         'o.j.m.MIMEMessage.getAttachments': 1,\n",
       "         'o.g.j.m.m.i.MultiPartReaderClientSide.readMultiPart': 1,\n",
       "         'o.g.j.m.m.i.MultiPartReaderServerSide.readMultiPart': 1,\n",
       "         'o.g.j.m.m.i.MultiPartReaderClientSide.readFrom': 2,\n",
       "         'o.g.j.m.i.ReaderInterceptorExecutor$TerminalReaderInterceptor.invokeReadFrom': 1,\n",
       "         'o.g.j.m.i.ReaderInterceptorExecutor$TerminalReaderInterceptor.aroundReadFrom': 1,\n",
       "         'o.g.j.m.i.ReaderInterceptorExecutor.proceed': 2,\n",
       "         'o.g.j.s.i.MappableExceptionWrapperInterceptor.aroundReadFrom': 1,\n",
       "         'o.g.j.m.i.MessageBodyFactory.readFrom': 1,\n",
       "         'o.g.j.m.i.InboundMessageContext.readEntity': 1,\n",
       "         'o.g.j.s.ContainerRequest.readEntity': 1})"
      ]
     },
     "execution_count": 10,
     "metadata": {},
     "output_type": "execute_result"
    }
   ],
   "source": [
    "collisions = collections.Counter()\n",
    "\n",
    "for line in correctLines:\n",
    "    collisions[line] += 1\n",
    "collisions"
   ]
  },
  {
   "cell_type": "markdown",
   "metadata": {},
   "source": [
    "collisions - по сути, словарик, в котором хранится, сколько раз мы столкнулись с той или иной ошибкой."
   ]
  },
  {
   "cell_type": "code",
   "execution_count": 23,
   "metadata": {},
   "outputs": [],
   "source": [
    "G = nx.Graph()\n",
    "\n",
    "item_num = 0\n",
    "uniqueCollisions = list(collisions)\n",
    "\n",
    "while len(uniqueCollisions) > item_num: \n",
    "    current = uniqueCollisions[item_num]\n",
    "    item_num += 1\n",
    "    dotPlace = current.rfind('.')\n",
    "    if dotPlace == -1:\n",
    "        continue\n",
    "    else:\n",
    "        G.add_edge(current, current[:dotPlace])\n",
    "        \n",
    "        collisions[current[:dotPlace]] += collisions[current]\n",
    "        uniqueCollisions = list(collisions)"
   ]
  },
  {
   "cell_type": "markdown",
   "metadata": {},
   "source": [
    "Заполняем граф всеми рёбрами родитель-ребёнок (при добавлении edge, также добавляется вершина, если она ранее отсутствовала), также считаем, сколько раз встретился какой-то кусок, как сумму того, сколько раз суммарно встретились его дети первого порядка. Дозаполняем этими значениями наш словарь."
   ]
  },
  {
   "cell_type": "code",
   "execution_count": 62,
   "metadata": {},
   "outputs": [],
   "source": [
    "def children(graph, node, generation):\n",
    "    nodeLen = len(node)\n",
    "    answer = 0\n",
    "    if generation == 0:\n",
    "        return 1\n",
    "    else:\n",
    "        for c_node, adjacencies in graph.adjacency():\n",
    "            if not c_node == node:\n",
    "                continue\n",
    "            else:\n",
    "                for candidate in adjacencies.keys():\n",
    "                    if len(candidate) > nodeLen:\n",
    "                        answer += children(graph, candidate, generation-1)\n",
    "                break\n",
    "    return answer"
   ]
  },
  {
   "cell_type": "markdown",
   "metadata": {},
   "source": [
    "Функция, чтобы узнать, сколько детей поколения n есть у определённого корня. Собственно, зачем нам это нужно? Единственный адекватный способ нормально нарисовать дерево так, чтобы оно не пересекалось - окружности. Типа в центре - корень, на расстоянии $r_1$ - какое-то количество равномерно раскиданных детей первого порядка, соединнёых с центром окружности, на расстоянии $r_2 (> r_1)$ - дети второго порядка, соединённые со своими родителями первого порядка, являющимися детьми первого порядка центральной вершины. И так далее... В итоге, получаем несколько слоёв, рёбра не пересекаются. "
   ]
  },
  {
   "cell_type": "markdown",
   "metadata": {},
   "source": [
    "В итоге, что остаётся сделать? Немного переписать children так, чтобы он возвращал список детей n-го порядка (поколения), чтобы не оказалось, что, условно, o.a.b - на 10 градусах, а его дитё - o.a.b.c - на 180 градусах - тогда явно будет пересечение, коих мы стремились избежать. \n",
    "\n",
    "Как расположить их по кругу? Вспоминаем комплексные числа и идею с косинусом угла на длину отрезочка и синусом угла на длину отрезочка. В нашем случае, длины - $r_1, r_2$... Углы, синусы и косинусы которых надо брать - $2* i * Pi/n$, где $0 <= i < n$. \n",
    "\n",
    "В данном случае, рассматривается только одна буква в самом корне - o. Для нескольких буквеней всё не сильно сложнее - просто нужно будет расчитать (что несложно) расстояние, на котором может стоять другая буква корневая (скажем, c), чтобы их дети друг с другом не пересекались.\n",
    "\n",
    "P.s. в Untitled есть пометочки касательно визуализации. По идее, опираясь на них, можно создать то, что как раз нужно, если я верно понял задание. :D\n",
    "\n",
    "P.p.s. завтра часов до 15 планирую завершить выполнение данной задачи. В теории, действительно немного осталось написать."
   ]
  }
 ],
 "metadata": {
  "kernelspec": {
   "display_name": "Python 3",
   "language": "python",
   "name": "python3"
  },
  "language_info": {
   "codemirror_mode": {
    "name": "ipython",
    "version": 3
   },
   "file_extension": ".py",
   "mimetype": "text/x-python",
   "name": "python",
   "nbconvert_exporter": "python",
   "pygments_lexer": "ipython3",
   "version": "3.7.0"
  }
 },
 "nbformat": 4,
 "nbformat_minor": 2
}
